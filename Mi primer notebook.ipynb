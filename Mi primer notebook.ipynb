{
 "cells": [
  {
   "cell_type": "markdown",
   "id": "d5a5b66f",
   "metadata": {},
   "source": [
    "# Mi primer notebook \n",
    "autor: engerly zamora\n",
    "* Un elemento en una lista no ordenada\n",
    "* Otro elemento en una lista\n",
    "\n",
    "1. Elemento en una lista enumerada u ordenada.\n",
    "2. Otro elemento"
   ]
  },
  {
   "cell_type": "code",
   "execution_count": 2,
   "id": "53b80509",
   "metadata": {},
   "outputs": [
    {
     "name": "stdout",
     "output_type": "stream",
     "text": [
      "Hello\n"
     ]
    }
   ],
   "source": [
    "print(\"Hello\")"
   ]
  },
  {
   "cell_type": "code",
   "execution_count": null,
   "id": "272dc595",
   "metadata": {},
   "outputs": [],
   "source": []
  },
  {
   "cell_type": "code",
   "execution_count": null,
   "id": "68d4edb6",
   "metadata": {},
   "outputs": [],
   "source": []
  }
 ],
 "metadata": {
  "kernelspec": {
   "display_name": "Python 3 (ipykernel)",
   "language": "python",
   "name": "python3"
  },
  "language_info": {
   "codemirror_mode": {
    "name": "ipython",
    "version": 3
   },
   "file_extension": ".py",
   "mimetype": "text/x-python",
   "name": "python",
   "nbconvert_exporter": "python",
   "pygments_lexer": "ipython3",
   "version": "3.8.6"
  }
 },
 "nbformat": 4,
 "nbformat_minor": 5
}
